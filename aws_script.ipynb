{
 "cells": [
  {
   "cell_type": "code",
   "execution_count": 91,
   "metadata": {},
   "outputs": [],
   "source": [
    "import boto3\n",
    "import os"
   ]
  },
  {
   "cell_type": "code",
   "execution_count": 92,
   "metadata": {},
   "outputs": [],
   "source": [
    "#variables\n",
    "OHIO_REGION = \"us-east-2\"\n",
    "NORTH_VIRGINIA = \"us-east-1\"\n",
    "AMI_UBUNTU_OHIO = \"ami-020db2c14939a8efb\"\n",
    "AMI_UBUNTU_NORTH_VIRGINIA = \"ami-0279c3b3186e54acd\"\n",
    "KEY_PAIR_OHIO_NAME = \"key_pair_marcelo_ohio\"\n",
    "KEY_PAIR_NORTH_VIRGINIA_NAME = \"key_pair_marcelo_north_virginia\"\n",
    "SEC_GROUP_NAME_DB = \"Sec_Group_DB\"\n",
    "SEC_GROUP_NAME_DJ = \"Sec_Group_DJ\""
   ]
  },
  {
   "cell_type": "code",
   "execution_count": 93,
   "metadata": {},
   "outputs": [],
   "source": [
    "# commands line\n",
    "comand_db=\"\"\"\n",
    "#cloud-config\n",
    "\n",
    "runcmd:\n",
    "- cd /\n",
    "- sudo apt update\n",
    "- sudo apt install postgresql postgresql-contrib -y\n",
    "- sudo su - postgres\n",
    "- sudo -u postgres psql -c \"CREATE USER cloud WITH PASSWORD 'cloud';\"\n",
    "- sudo -u postgres psql -c \"CREATE DATABASE tasks;\"\n",
    "- sudo -u postgres psql -c \"GRANT ALL PRIVILEGES ON DATABASE tasks TO cloud;\"\n",
    "- sudo echo \"listen_addresses = '*'\" >> /etc/postgresql/10/main/postgresql.conf\n",
    "- sudo echo \"host all all 0.0.0.0/0 trust\" >> /etc/postgresql/10/main/pg_hba.conf\n",
    "- sudo ufw allow 5432/tcp -y\n",
    "- sudo systemctl restart postgresql\n",
    "\n",
    "\"\"\""
   ]
  },
  {
   "cell_type": "code",
   "execution_count": 94,
   "metadata": {},
   "outputs": [],
   "source": [
    "# permissions\n",
    "IpPermissions_DB = [\n",
    "    {\n",
    "        'IpProtocol': 'tcp',\n",
    "        'FromPort': 22,\n",
    "        'ToPort': 22,\n",
    "        'IpRanges': [\n",
    "            {'CidrIp': '0.0.0.0/0'}\n",
    "        ]\n",
    "    },\n",
    "    {\n",
    "        'IpProtocol': 'tcp',\n",
    "        'FromPort': 5432,\n",
    "        'ToPort': 5432,\n",
    "        'IpRanges': [\n",
    "            {'CidrIp': '0.0.0.0/0'}\n",
    "        ]\n",
    "    },\n",
    "    {\n",
    "            \"FromPort\": 80,\n",
    "            \"ToPort\": 80,\n",
    "            \"IpProtocol\": \"tcp\",\n",
    "            \"IpRanges\": [\n",
    "                {\"CidrIp\": \"0.0.0.0/0\", \"Description\": \"internet\"},\n",
    "            ],\n",
    "        },\n",
    "]\n",
    "\n",
    "\n",
    "IpPermissions_DJ = [\n",
    "    {\n",
    "        'IpProtocol': 'tcp',\n",
    "        'FromPort': 22,\n",
    "        'ToPort': 22,\n",
    "        'IpRanges': [\n",
    "            {'CidrIp': '0.0.0.0/0'}\n",
    "        ]\n",
    "    },\n",
    "    {\n",
    "        'IpProtocol': 'tcp',\n",
    "        'FromPort': 8080,\n",
    "        'ToPort': 8080,\n",
    "        'IpRanges': [\n",
    "            {'CidrIp': '0.0.0.0/0'}\n",
    "        ]\n",
    "    },\n",
    "    {\n",
    "            \"FromPort\": 80,\n",
    "            \"ToPort\": 80,\n",
    "            \"IpProtocol\": \"tcp\",\n",
    "            \"IpRanges\": [\n",
    "                {\"CidrIp\": \"0.0.0.0/0\", \"Description\": \"internet\"},\n",
    "            ],\n",
    "        },\n",
    "]\n"
   ]
  },
  {
   "cell_type": "code",
   "execution_count": 95,
   "metadata": {},
   "outputs": [],
   "source": [
    "#create a key_pair\n",
    "def create_key_pair(client,key_name:str):\n",
    "    key_pair = client.create_key_pair(KeyName=key_name)\n",
    "\n",
    "    private_key = key_pair[\"KeyMaterial\"]\n",
    "\n",
    "    # write private key to file with 400 permissions\n",
    "    print(f\"Writing {key_name}.pem in directory ./\")\n",
    "    with os.fdopen(os.open(f\"./{key_name}.pem\", os.O_WRONLY | os.O_CREAT, 0o400), \"w+\") as handle:\n",
    "        handle.write(private_key)\n",
    "    return key_pair\n",
    "\n",
    "#delete a key_pair\n",
    "def delete_key_pair(client,key_name:str):\n",
    "    key_pair = client.delete_key_pair(KeyName=key_name)\n",
    "    print(f\"removing {key_name} if exist\")\n",
    "    # write private key to file with 400 permissions\n",
    "    try:\n",
    "        os.remove(\"./\" + key_name + \".pem\")\n",
    "        \n",
    "    except:\n",
    "        pass\n",
    "\n",
    "\n",
    "def create_an_instance(client, ami,key_name,user_data,sec_group_name,sec_group_id):\n",
    "    \n",
    "    instancetype = \"t2.micro\"\n",
    "    print(f\"Creating an instance with {instancetype}, and keyname {key_name['KeyName']}\")\n",
    "    if user_data == None:\n",
    "        instances = client.run_instances(\n",
    "            ImageId=ami,\n",
    "            MinCount=1,\n",
    "            MaxCount=1,\n",
    "            InstanceType=\"t2.micro\",\n",
    "            KeyName=key_name['KeyName'],\n",
    "            SecurityGroupIds=[sec_group_id],\n",
    "            SecurityGroups=[sec_group_name]\n",
    "        )\n",
    "    else:\n",
    "        \n",
    "        instances = client.run_instances(\n",
    "            ImageId=ami,\n",
    "            MinCount=1,\n",
    "            MaxCount=1,\n",
    "            InstanceType=\"t2.micro\",\n",
    "            KeyName=key_name['KeyName'],\n",
    "            UserData = user_data,\n",
    "            SecurityGroupIds=[sec_group_id],\n",
    "            SecurityGroups=[sec_group_name]\n",
    "        )\n",
    "    for i in instances['Instances']:\n",
    "        if i['KeyName'] == key_name[\"KeyName\"]:\n",
    "            instance_id = i['InstanceId']\n",
    "    return instances, instance_id\n",
    "\n",
    "def delete_instances(client,key_pair):\n",
    "    list_instances_id = []\n",
    "    for i in client.describe_instances(Filters=[\n",
    "        {\n",
    "            'Name': 'key-name',\n",
    "            'Values': [\n",
    "                key_pair,\n",
    "            ]\n",
    "        },\n",
    "        {\n",
    "            'Name': 'instance-state-name',\n",
    "            'Values': [\n",
    "                \"pending\",\"running\",\"stopping\",\"stopped\"\n",
    "            ]\n",
    "        },\n",
    "    ],\n",
    ")['Reservations']:\n",
    "        list_instances_id.append(i['Instances'][0][\"InstanceId\"])\n",
    "    if len(list_instances_id) > 0:\n",
    "        print(f\"Deleting Instances ids {list_instances_id}\")\n",
    "        waiter = client.get_waiter('instance_terminated')\n",
    "        client.terminate_instances(InstanceIds=list_instances_id)\n",
    "        waiter.wait(InstanceIds=list_instances_id)\n",
    "    else:\n",
    "        print(f\"There is no instances not terminated with the keypair {key_pair}\")\n",
    "        \n",
    "def delete_sec_group(client,sec_group_name):\n",
    "    find_sec_group = False\n",
    "    security_groups = client.describe_security_groups()\n",
    "    for sec_group in security_groups['SecurityGroups']:\n",
    "        if sec_group['GroupName'] == sec_group_name:\n",
    "            find_sec_group = True\n",
    "            \n",
    "            deleted_sec_group = client.delete_security_group(GroupName=sec_group[\"GroupName\"], GroupId=sec_group[\"GroupId\"])\n",
    "    if find_sec_group:\n",
    "        print(f\"{sec_group_name} deleted\")\n",
    "    else:\n",
    "        print(f\"{sec_group_name} not found\")\n",
    "def create_security_group(client, SEC_GROUP_NAME,IP_PERMISSIONS):\n",
    "    vpcs = client.describe_vpcs()\n",
    "    vpc_id = vpcs['Vpcs'][0]['VpcId']\n",
    "    security_group = client.create_security_group(GroupName=SEC_GROUP_NAME,\n",
    "                                                Description=\"Created with boto3\",\n",
    "                                                VpcId=vpc_id)\n",
    "    security_group_id = security_group['GroupId']\n",
    "    client.authorize_security_group_ingress(\n",
    "        GroupId=security_group_id,\n",
    "        IpPermissions = IP_PERMISSIONS\n",
    "    )\n",
    "    print(f\"Security Group {SEC_GROUP_NAME} created\")\n",
    "    return security_group_id"
   ]
  },
  {
   "cell_type": "code",
   "execution_count": 96,
   "metadata": {},
   "outputs": [],
   "source": [
    "\n",
    "#delete_sec_group(ec2_ohio,SEC_GROUP_DB)"
   ]
  },
  {
   "cell_type": "code",
   "execution_count": null,
   "metadata": {},
   "outputs": [],
   "source": []
  },
  {
   "cell_type": "code",
   "execution_count": 97,
   "metadata": {
    "scrolled": true
   },
   "outputs": [
    {
     "name": "stdout",
     "output_type": "stream",
     "text": [
      "marcelo\n",
      "AIDATTPQFU3W27CNBJLEK\n",
      "arn:aws:iam::248001177325:user/marcelo\n",
      "2021-09-21 18:22:34+00:00\n"
     ]
    }
   ],
   "source": [
    "#checking if boto3 client is working\n",
    "iam = boto3.client(\"iam\")\n",
    "\n",
    "for user in iam.list_users()[\"Users\"]:\n",
    "    if user[\"UserName\"] == \"marcelo\":\n",
    "        print(user[\"UserName\"])\n",
    "        print(user[\"UserId\"])\n",
    "        print(user[\"Arn\"])\n",
    "        print(user[\"CreateDate\"])"
   ]
  },
  {
   "cell_type": "code",
   "execution_count": null,
   "metadata": {},
   "outputs": [],
   "source": []
  },
  {
   "cell_type": "code",
   "execution_count": 98,
   "metadata": {},
   "outputs": [],
   "source": [
    "#connection to ec2\n",
    "ec2_ohio = boto3.client('ec2', region_name='us-east-2')\n",
    "ec2_north_virginia_ = boto3.client('ec2', region_name='us-east-1')"
   ]
  },
  {
   "cell_type": "code",
   "execution_count": 99,
   "metadata": {},
   "outputs": [
    {
     "name": "stdout",
     "output_type": "stream",
     "text": [
      "Deleting Instances ids ['i-005928d3b186d7c27']\n",
      "There is no instances not terminated with the keypair key_pair_marcelo_north_virginia\n"
     ]
    }
   ],
   "source": [
    "delete_instances(ec2_ohio,KEY_PAIR_OHIO_NAME)\n",
    "delete_instances(ec2_north_virginia_,KEY_PAIR_NORTH_VIRGINIA_NAME)"
   ]
  },
  {
   "cell_type": "code",
   "execution_count": 100,
   "metadata": {},
   "outputs": [
    {
     "name": "stdout",
     "output_type": "stream",
     "text": [
      "removing key_pair_marcelo_ohio if exist\n",
      "removing key_pair_marcelo_north_virginia if exist\n"
     ]
    }
   ],
   "source": [
    "delete_key_pair(ec2_ohio,KEY_PAIR_OHIO_NAME)\n",
    "delete_key_pair(ec2_north_virginia_,KEY_PAIR_NORTH_VIRGINIA_NAME)"
   ]
  },
  {
   "cell_type": "code",
   "execution_count": 101,
   "metadata": {},
   "outputs": [
    {
     "name": "stdout",
     "output_type": "stream",
     "text": [
      "Sec_Group_DB deleted\n",
      "Sec_Group_DJ deleted\n"
     ]
    }
   ],
   "source": [
    "delete_sec_group(ec2_ohio,SEC_GROUP_NAME_DB)\n",
    "delete_sec_group(ec2_north_virginia_,SEC_GROUP_NAME_DJ)"
   ]
  },
  {
   "cell_type": "code",
   "execution_count": 102,
   "metadata": {},
   "outputs": [
    {
     "name": "stdout",
     "output_type": "stream",
     "text": [
      "Security Group Sec_Group_DB created\n",
      "Security Group Sec_Group_DJ created\n"
     ]
    }
   ],
   "source": [
    "sec_group_id_db = create_security_group(ec2_ohio,SEC_GROUP_NAME_DB,IpPermissions_DB)\n",
    "sec_group_id_dj = create_security_group(ec2_north_virginia_,SEC_GROUP_NAME_DJ,IpPermissions_DJ)"
   ]
  },
  {
   "cell_type": "code",
   "execution_count": 103,
   "metadata": {},
   "outputs": [
    {
     "name": "stdout",
     "output_type": "stream",
     "text": [
      "Writing key_pair_marcelo_ohio.pem in directory ./\n",
      "Writing key_pair_marcelo_north_virginia.pem in directory ./\n"
     ]
    }
   ],
   "source": [
    "key_pair_ohio = create_key_pair(ec2_ohio,KEY_PAIR_OHIO_NAME)\n",
    "key_pair_north_virginia = create_key_pair(ec2_north_virginia_,KEY_PAIR_NORTH_VIRGINIA_NAME)"
   ]
  },
  {
   "cell_type": "code",
   "execution_count": 104,
   "metadata": {},
   "outputs": [
    {
     "name": "stdout",
     "output_type": "stream",
     "text": [
      "Creating an instance with t2.micro, and keyname key_pair_marcelo_ohio\n"
     ]
    }
   ],
   "source": [
    "instances_ohio, instance_ohio_id = create_an_instance(ec2_ohio,AMI_UBUNTU_OHIO,key_pair_ohio,comand_db,SEC_GROUP_NAME_DB,sec_group_id_db)\n",
    "#instances_north_virginia, instance_north_virginia_id = create_an_instance(ec2_north_virginia_,AMI_UBUNTU_NORTH_VIRGINIA,key_pair_north_virginia)"
   ]
  },
  {
   "cell_type": "code",
   "execution_count": null,
   "metadata": {},
   "outputs": [],
   "source": []
  }
 ],
 "metadata": {
  "kernelspec": {
   "display_name": "Python 3",
   "language": "python",
   "name": "python3"
  },
  "language_info": {
   "codemirror_mode": {
    "name": "ipython",
    "version": 3
   },
   "file_extension": ".py",
   "mimetype": "text/x-python",
   "name": "python",
   "nbconvert_exporter": "python",
   "pygments_lexer": "ipython3",
   "version": "3.8.10"
  }
 },
 "nbformat": 4,
 "nbformat_minor": 4
}
