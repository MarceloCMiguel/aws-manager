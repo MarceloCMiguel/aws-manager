{
 "cells": [
  {
   "cell_type": "code",
   "execution_count": 19,
   "metadata": {},
   "outputs": [],
   "source": [
    "import boto3\n",
    "import os"
   ]
  },
  {
   "cell_type": "code",
   "execution_count": 20,
   "metadata": {},
   "outputs": [],
   "source": [
    "#variables\n",
    "OHIO_REGION = \"us-east-2\"\n",
    "NORTH_VIRGINIA = \"us-east-1\"\n",
    "AMI_UBUNTU_OHIO = \"ami-020db2c14939a8efb\"\n",
    "AMI_UBUNTU_NORTH_VIRGINIA = \"ami-0279c3b3186e54acd\"\n",
    "KEY_PAIR_OHIO_NAME = \"key_pair_marcelo_ohio\"\n",
    "KEY_PAIR_NORTH_VIRGINIA_NAME = \"key_pair_marcelo_north_virginia\"\n",
    "SEC_GROUP_NAME_DB = \"Sec_Group_DB\"\n",
    "SEC_GROUP_NAME_DJ = \"Sec_Group_DJ\"\n",
    "IMAGE_DJ = \"Image Django Instance\"\n",
    "LB_NAME = \"LB-Django\"\n",
    "TG_NAME = \"TG-DJANGO\"\n",
    "LAUNCH_CONFIG_NAME = \"Launch-Config-Django\"\n",
    "AUTO_SCALING_GROUP_NAME = \"AS-DJANGO\""
   ]
  },
  {
   "cell_type": "code",
   "execution_count": 21,
   "metadata": {},
   "outputs": [],
   "source": [
    "# commands line\n",
    "comand_db=\"\"\"\n",
    "#cloud-config\n",
    "\n",
    "runcmd:\n",
    "- cd /\n",
    "- sudo apt update\n",
    "- sudo apt install postgresql postgresql-contrib -y\n",
    "- sudo su - postgres\n",
    "- sudo -u postgres psql -c \"CREATE USER cloud WITH PASSWORD 'cloud';\"\n",
    "- sudo -u postgres psql -c \"CREATE DATABASE tasks;\"\n",
    "- sudo -u postgres psql -c \"GRANT ALL PRIVILEGES ON DATABASE tasks TO cloud;\"\n",
    "- sudo echo \"listen_addresses = '*'\" >> /etc/postgresql/10/main/postgresql.conf\n",
    "- sudo echo \"host all all 0.0.0.0/0 trust\" >> /etc/postgresql/10/main/pg_hba.conf\n",
    "- sudo ufw allow 5432/tcp -y\n",
    "- sudo systemctl restart postgresql\n",
    "\n",
    "\"\"\"\n",
    "\n",
    "command_django=\"\"\"\n",
    "#cloud-config\n",
    "\n",
    "runcmd:\n",
    "- cd /home/ubuntu \n",
    "- sudo apt update -y\n",
    "- git clone https://github.com/MarceloCMiguel/tasks.git\n",
    "- cd tasks\n",
    "- sed -i \"s/node1/IP_REPLACE/g\" ./portfolio/settings.py\n",
    "- ./install.sh\n",
    "- sudo ufw allow 8080/tcp -y\n",
    "- sudo reboot\n",
    "\"\"\""
   ]
  },
  {
   "cell_type": "code",
   "execution_count": 22,
   "metadata": {},
   "outputs": [],
   "source": [
    "# permissions\n",
    "IpPermissions_DB = [\n",
    "    {\n",
    "        'IpProtocol': 'tcp',\n",
    "        'FromPort': 22,\n",
    "        'ToPort': 22,\n",
    "        'IpRanges': [\n",
    "            {'CidrIp': '0.0.0.0/0'}\n",
    "        ]\n",
    "    },\n",
    "    {\n",
    "        'IpProtocol': 'tcp',\n",
    "        'FromPort': 5432,\n",
    "        'ToPort': 5432,\n",
    "        'IpRanges': [\n",
    "            {'CidrIp': '0.0.0.0/0'}\n",
    "        ]\n",
    "    },\n",
    "    {\n",
    "            \"FromPort\": 80,\n",
    "            \"ToPort\": 80,\n",
    "            \"IpProtocol\": \"tcp\",\n",
    "            \"IpRanges\": [\n",
    "                {\"CidrIp\": \"0.0.0.0/0\", \"Description\": \"internet\"},\n",
    "            ],\n",
    "        },\n",
    "]\n",
    "\n",
    "\n",
    "IpPermissions_DJ = [\n",
    "    {\n",
    "        'IpProtocol': 'tcp',\n",
    "        'FromPort': 22,\n",
    "        'ToPort': 22,\n",
    "        'IpRanges': [\n",
    "            {'CidrIp': '0.0.0.0/0'}\n",
    "        ]\n",
    "    },\n",
    "    {\n",
    "        'IpProtocol': 'tcp',\n",
    "        'FromPort': 8080,\n",
    "        'ToPort': 8080,\n",
    "        'IpRanges': [\n",
    "            {'CidrIp': '0.0.0.0/0'}\n",
    "        ]\n",
    "    },\n",
    "    {\n",
    "            \"FromPort\": 80,\n",
    "            \"ToPort\": 80,\n",
    "            \"IpProtocol\": \"tcp\",\n",
    "            \"IpRanges\": [\n",
    "                {\"CidrIp\": \"0.0.0.0/0\", \"Description\": \"internet\"},\n",
    "            ],\n",
    "        },\n",
    "]\n"
   ]
  },
  {
   "cell_type": "code",
   "execution_count": 23,
   "metadata": {},
   "outputs": [],
   "source": [
    "#create a key_pair\n",
    "def create_key_pair(client,key_name:str):\n",
    "    key_pair = client.create_key_pair(KeyName=key_name)\n",
    "\n",
    "    private_key = key_pair[\"KeyMaterial\"]\n",
    "\n",
    "    # write private key to file with 400 permissions\n",
    "    print(f\"Writing {key_name}.pem in directory ./\")\n",
    "    with os.fdopen(os.open(f\"./{key_name}.pem\", os.O_WRONLY | os.O_CREAT, 0o400), \"w+\") as handle:\n",
    "        handle.write(private_key)\n",
    "    return key_pair\n",
    "\n",
    "#delete a key_pair\n",
    "def delete_key_pair(client,key_name:str):\n",
    "    key_pair = client.delete_key_pair(KeyName=key_name)\n",
    "    print(f\"removing {key_name} if exist\")\n",
    "    # write private key to file with 400 permissions\n",
    "    try:\n",
    "        os.remove(\"./\" + key_name + \".pem\")\n",
    "        \n",
    "    except:\n",
    "        pass\n",
    "\n",
    "\n",
    "def create_an_instance(client, ami,key_name,user_data,sec_group_name,sec_group_id):\n",
    "    \n",
    "    instancetype = \"t2.micro\"\n",
    "    print(f\"Creating an instance with {instancetype}, and keyname {key_name['KeyName']}\")\n",
    "    if user_data == None:\n",
    "        instances = client.run_instances(\n",
    "            ImageId=ami,\n",
    "            MinCount=1,\n",
    "            MaxCount=1,\n",
    "            InstanceType=\"t2.micro\",\n",
    "            KeyName=key_name['KeyName'],\n",
    "            SecurityGroupIds=[sec_group_id],\n",
    "            SecurityGroups=[sec_group_name]\n",
    "        )\n",
    "    else:\n",
    "        instances = client.run_instances(\n",
    "            ImageId=ami,\n",
    "            MinCount=1,\n",
    "            MaxCount=1,\n",
    "            InstanceType=\"t2.micro\",\n",
    "            KeyName=key_name['KeyName'],\n",
    "            UserData = user_data,\n",
    "            SecurityGroupIds=[sec_group_id],\n",
    "            SecurityGroups=[sec_group_name]\n",
    "        )\n",
    "    for i in instances['Instances']:\n",
    "        if i['KeyName'] == key_name[\"KeyName\"]:\n",
    "            instance_id = i['InstanceId']\n",
    "    waiter = client.get_waiter('instance_status_ok')\n",
    "    waiter.wait(InstanceIds=[instance_id])\n",
    "    instance_ip = client.describe_instances(Filters=[\n",
    "        {\n",
    "            'Name': 'key-name',\n",
    "            'Values': [\n",
    "                key_name['KeyName'],\n",
    "            ]\n",
    "        },\n",
    "        {\n",
    "            'Name': 'instance-state-name',\n",
    "            'Values': [\n",
    "                \"running\"\n",
    "            ]\n",
    "        },\n",
    "    ],\n",
    "    )['Reservations'][0]['Instances'][0]['PublicIpAddress']\n",
    "    print(f\"Instance id: {instance_id}\\nInstance Public IP:{instance_ip}\")\n",
    "    return instance_id, instance_ip\n",
    "\n",
    "def delete_instances(client,key_pair):\n",
    "    list_instances_id = []\n",
    "    for i in client.describe_instances(Filters=[\n",
    "        {\n",
    "            'Name': 'key-name',\n",
    "            'Values': [\n",
    "                key_pair,\n",
    "            ]\n",
    "        },\n",
    "        {\n",
    "            'Name': 'instance-state-name',\n",
    "            'Values': [\n",
    "                \"pending\",\"running\",\"stopping\",\"stopped\"\n",
    "            ]\n",
    "        },\n",
    "    ],\n",
    ")['Reservations']:\n",
    "        list_instances_id.append(i['Instances'][0][\"InstanceId\"])\n",
    "    if len(list_instances_id) > 0:\n",
    "        print(f\"Deleting Instances ids {list_instances_id}\")\n",
    "        waiter = client.get_waiter('instance_terminated')\n",
    "        client.terminate_instances(InstanceIds=list_instances_id)\n",
    "        waiter.wait(InstanceIds=list_instances_id)\n",
    "        print(f\"Instances withs keypair {key_pair} deleted\")\n",
    "    else:\n",
    "        print(f\"There is no instances running with the keypair {key_pair}\")\n",
    "        \n",
    "def delete_sec_group(client,sec_group_name):\n",
    "    find_sec_group = False\n",
    "    security_groups = client.describe_security_groups()\n",
    "    for sec_group in security_groups['SecurityGroups']:\n",
    "        if sec_group['GroupName'] == sec_group_name:\n",
    "            find_sec_group = True\n",
    "            \n",
    "            deleted_sec_group = client.delete_security_group(GroupName=sec_group[\"GroupName\"], GroupId=sec_group[\"GroupId\"])\n",
    "    if find_sec_group:\n",
    "        print(f\"{sec_group_name} deleted\")\n",
    "    else:\n",
    "        print(f\"{sec_group_name} not found\")\n",
    "def create_security_group(client, SEC_GROUP_NAME,IP_PERMISSIONS):\n",
    "    vpcs = client.describe_vpcs()\n",
    "    vpc_id = vpcs['Vpcs'][0]['VpcId']\n",
    "    security_group = client.create_security_group(GroupName=SEC_GROUP_NAME,\n",
    "                                                Description=\"Created with boto3\",\n",
    "                                                VpcId=vpc_id)\n",
    "    security_group_id = security_group['GroupId']\n",
    "    client.authorize_security_group_ingress(\n",
    "        GroupId=security_group_id,\n",
    "        IpPermissions = IP_PERMISSIONS\n",
    "    )\n",
    "    print(f\"Security Group {SEC_GROUP_NAME} created\")\n",
    "    return security_group_id\n",
    "\n",
    "def create_image(client,instance_id,name_image):\n",
    "    image_response=client.create_image(InstanceId=instance_id,Name=name_image)\n",
    "    waiter = client.get_waiter('image_available')\n",
    "    image_id = image_response[\"ImageId\"]\n",
    "    waiter.wait(ImageIds=[image_id])\n",
    "    print(f\"Image {name_image} created with id {image_id}\")\n",
    "    return image_id\n",
    "    \n",
    "def delete_image(client,image_name):\n",
    "    images_described=ec2_north_virginia_.describe_images(Filters=[\n",
    "        {\n",
    "            'Name': 'name',\n",
    "            'Values': [\n",
    "                image_name,\n",
    "            ]\n",
    "        },\n",
    "    ])\n",
    "    if len(images_described['Images'])<1:\n",
    "        print(f\"There is no image with name {image_name}\")\n",
    "        return\n",
    "    image_id = images_described['Images'][0]['ImageId']\n",
    "    client.deregister_image(ImageId=image_id)\n",
    "    print(f\"Image {image_name} deleted\")\n",
    "    \n",
    "    \n",
    "def create_load_balancer(client,client_lb, lb_name,sec_group_id):    \n",
    "    subnets = client.describe_subnets()\n",
    "    list_subnets_id = []\n",
    "    for subnet in subnets['Subnets']:\n",
    "        list_subnets_id.append(subnet['SubnetId'])\n",
    "    waiter = client_lb.get_waiter('load_balancer_available')    \n",
    "    print(\"Creating load balancer with all subnets available\")\n",
    "    load_balancer_created = client_lb.create_load_balancer(Name = lb_name,\n",
    "                                                                    Subnets=list_subnets_id,\n",
    "                                                                    SecurityGroups=[sec_group_id],\n",
    "                                                                    IpAddressType=\"ipv4\",)\n",
    "    LoadBalancerArn_ = load_balancer_created['LoadBalancers'][0]['LoadBalancerArn']\n",
    "    waiter.wait(LoadBalancerArns=[LoadBalancerArn_])\n",
    "    print(f\"Load Balancer {lb_name} created\")\n",
    "    return LoadBalancerArn_\n",
    "\n",
    "def delete_load_balancer(client_lb,lb_name):\n",
    "    waiter = client_lb.get_waiter('load_balancers_deleted')\n",
    "    try:\n",
    "        load_balancers = client_lb.describe_load_balancers(Names=[lb_name])\n",
    "    except:\n",
    "        print(f\"No load_balancers with name {lb_name}\")\n",
    "        return\n",
    "    for lb in load_balancers['LoadBalancers']:\n",
    "        client_lb.delete_load_balancer(LoadBalancerArn=lb['LoadBalancerArn'])\n",
    "        lb_arn = lb['LoadBalancerArn']\n",
    "        \n",
    "    print(f\"Load Balancer with name {lb_name} deleted\")\n",
    "    return lb_arn\n",
    "    \n",
    "def create_target_group(client_ec2,client_lb,tg_name):\n",
    "    vpc_id = ec2_north_virginia_.describe_vpcs()['Vpcs'][0]['VpcId']\n",
    "    tg_created=lb_north_virginia_.create_target_group(\n",
    "        Name = tg_name,\n",
    "        Protocol = 'HTTP',\n",
    "        Port = 8080,\n",
    "        TargetType='instance',\n",
    "        VpcId = vpc_id\n",
    "    )\n",
    "    tg_arn =tg_created['TargetGroups'][0]['TargetGroupArn']\n",
    "    print(f\"Target group {tg_name} with arn {tg_arn} created\")\n",
    "    return tg_arn\n",
    "\n",
    "def delete_target_group(client_lb,tg_name):\n",
    "    try:\n",
    "        tgs=client_lb.describe_target_groups(Names=[tg_name])\n",
    "    except:\n",
    "        print(f\"No target group with name {tg_name}\")\n",
    "        return\n",
    "    tg_arn = tgs['TargetGroups'][0]['TargetGroupArn']\n",
    "    client_lb.delete_target_group(TargetGroupArn = tg_arn)\n",
    "    print(f\"Target Group {tg_name} deleted\")\n",
    "    \n",
    "def create_launch_configuration(as_client,launch_config_name,image_id, sec_group_id,key_name):    \n",
    "    try:\n",
    "        \n",
    "        as_client.create_launch_configuration(\n",
    "            LaunchConfigurationName=launch_config_name,\n",
    "            ImageId=image_id,\n",
    "            SecurityGroups=[sec_group_id],\n",
    "            InstanceType='t2.micro',\n",
    "            KeyName=key_name\n",
    "        )\n",
    "    except:\n",
    "        print(f\"A launch configuration already exists with the name {launch_config_name}\")\n",
    "        return\n",
    "    print(f\"Launch Configuration {launch_config_name} created\")\n",
    "    \n",
    "def delete_launch_configuration(as_client,launch_config_name):\n",
    "    try:        \n",
    "        as_north_virginia_.delete_launch_configuration(\n",
    "            LaunchConfigurationName = launch_config_name\n",
    "        )\n",
    "    except:\n",
    "        print(f\"Launch configuration {launch_config_name} not found\")\n",
    "        return\n",
    "    print(f\"Launch configuration {launch_config_name} deleted\")\n",
    "\n",
    "def create_auto_scaling_group(client_ec2,client_as,as_name,launch_config_name,tg_arn):\n",
    "    \n",
    "    list_zones = []\n",
    "    for zones in client_ec2.describe_availability_zones()['AvailabilityZones']:\n",
    "        list_zones.append(zones['ZoneName'])\n",
    "    auto_scaling_created = client_as.create_auto_scaling_group(\n",
    "        AutoScalingGroupName=as_name,\n",
    "        LaunchConfigurationName=launch_config_name,\n",
    "        MinSize=1,\n",
    "        MaxSize = 3,\n",
    "        TargetGroupARNs=[tg_arn],\n",
    "        AvailabilityZones = list_zones\n",
    "    )\n",
    "    print(f\"Auto scaling group {as_name} created\")\n",
    "\n",
    "def delete_auto_scaling_group(as_client,as_name):\n",
    "    try:\n",
    "        as_client.delete_auto_scaling_group(AutoScalingGroupName = as_name,ForceDelete= True)\n",
    "    except:\n",
    "        print(f\"{as_name} not found\")\n",
    "        \n",
    "def create_listener(lb_client,load_balancer_arn,tg_arn):\n",
    "    listener_created=lb_client.create_listener(\n",
    "        LoadBalancerArn= load_balancer_arn,\n",
    "        Protocol='HTTP',\n",
    "        Port=80,\n",
    "        DefaultActions=[\n",
    "            {\n",
    "                'Type': 'forward',\n",
    "                'TargetGroupArn': tg_arn\n",
    "\n",
    "            }\n",
    "        ]\n",
    "    )\n",
    "    listener_arn = listener_created['Listeners'][0]['ListenerArn']\n",
    "    return listener_arn\n",
    "        \n",
    "def delete_listeners(client_lb, lb_arn):\n",
    "    \n",
    "    listeners=client_lb.describe_listeners(LoadBalancerArn= lb_arn)\n",
    "    for listener in listeners['Listeners']:\n",
    "        client_lb.delete_listener(ListenerArn = listener['ListenerArn'])\n",
    "    print(f\"Listeners with arn {lb_arn} deleted\")"
   ]
  },
  {
   "cell_type": "code",
   "execution_count": 24,
   "metadata": {
    "scrolled": true
   },
   "outputs": [
    {
     "name": "stdout",
     "output_type": "stream",
     "text": [
      "marcelo\n",
      "AIDATTPQFU3W27CNBJLEK\n",
      "arn:aws:iam::248001177325:user/marcelo\n",
      "2021-09-21 18:22:34+00:00\n"
     ]
    }
   ],
   "source": [
    "#checking if boto3 client is working\n",
    "iam = boto3.client(\"iam\")\n",
    "\n",
    "for user in iam.list_users()[\"Users\"]:\n",
    "    if user[\"UserName\"] == \"marcelo\":\n",
    "        print(user[\"UserName\"])\n",
    "        print(user[\"UserId\"])\n",
    "        print(user[\"Arn\"])\n",
    "        print(user[\"CreateDate\"])"
   ]
  },
  {
   "cell_type": "code",
   "execution_count": null,
   "metadata": {},
   "outputs": [],
   "source": []
  },
  {
   "cell_type": "code",
   "execution_count": 25,
   "metadata": {},
   "outputs": [],
   "source": [
    "#connection to ec2\n",
    "ec2_ohio = boto3.client('ec2', region_name='us-east-2')\n",
    "ec2_north_virginia_ = boto3.client('ec2', region_name='us-east-1')\n",
    "lb_north_virginia_ = boto3.client('elbv2',region_name=\"us-east-1\")\n",
    "as_north_virginia_ = boto3.client('autoscaling',region_name=\"us-east-1\")"
   ]
  },
  {
   "cell_type": "code",
   "execution_count": null,
   "metadata": {},
   "outputs": [],
   "source": []
  },
  {
   "cell_type": "code",
   "execution_count": 26,
   "metadata": {},
   "outputs": [
    {
     "name": "stdout",
     "output_type": "stream",
     "text": [
      "AS-DJANGO not found\n"
     ]
    }
   ],
   "source": [
    "delete_auto_scaling_group(as_north_virginia_,AUTO_SCALING_GROUP_NAME)"
   ]
  },
  {
   "cell_type": "code",
   "execution_count": 27,
   "metadata": {},
   "outputs": [
    {
     "name": "stdout",
     "output_type": "stream",
     "text": [
      "There is no image with name Image Django Instance\n"
     ]
    }
   ],
   "source": [
    "delete_image(ec2_north_virginia_,IMAGE_DJ)"
   ]
  },
  {
   "cell_type": "code",
   "execution_count": 28,
   "metadata": {},
   "outputs": [
    {
     "name": "stdout",
     "output_type": "stream",
     "text": [
      "Launch configuration Launch-Config-Django not found\n"
     ]
    }
   ],
   "source": [
    "delete_launch_configuration(as_north_virginia_,LAUNCH_CONFIG_NAME)"
   ]
  },
  {
   "cell_type": "code",
   "execution_count": 29,
   "metadata": {},
   "outputs": [
    {
     "name": "stdout",
     "output_type": "stream",
     "text": [
      "No load_balancers with name LB-Django\n"
     ]
    }
   ],
   "source": [
    "lb_arn=delete_load_balancer(lb_north_virginia_,LB_NAME)\n",
    "if lb_arn is not None:\n",
    "    delete_listeners(lb_north_virginia_, lb_arn)"
   ]
  },
  {
   "cell_type": "code",
   "execution_count": 30,
   "metadata": {},
   "outputs": [
    {
     "name": "stdout",
     "output_type": "stream",
     "text": [
      "No target group with name TG-DJANGO\n"
     ]
    }
   ],
   "source": [
    "delete_target_group(lb_north_virginia_,TG_NAME)"
   ]
  },
  {
   "cell_type": "code",
   "execution_count": 31,
   "metadata": {},
   "outputs": [
    {
     "name": "stdout",
     "output_type": "stream",
     "text": [
      "There is no instances running with the keypair key_pair_marcelo_ohio\n",
      "There is no instances running with the keypair key_pair_marcelo_north_virginia\n"
     ]
    }
   ],
   "source": [
    "delete_instances(ec2_ohio,KEY_PAIR_OHIO_NAME)\n",
    "delete_instances(ec2_north_virginia_,KEY_PAIR_NORTH_VIRGINIA_NAME)"
   ]
  },
  {
   "cell_type": "code",
   "execution_count": 32,
   "metadata": {},
   "outputs": [
    {
     "name": "stdout",
     "output_type": "stream",
     "text": [
      "removing key_pair_marcelo_ohio if exist\n",
      "removing key_pair_marcelo_north_virginia if exist\n"
     ]
    }
   ],
   "source": [
    "delete_key_pair(ec2_ohio,KEY_PAIR_OHIO_NAME)\n",
    "delete_key_pair(ec2_north_virginia_,KEY_PAIR_NORTH_VIRGINIA_NAME)"
   ]
  },
  {
   "cell_type": "code",
   "execution_count": 33,
   "metadata": {},
   "outputs": [
    {
     "name": "stdout",
     "output_type": "stream",
     "text": [
      "Sec_Group_DB not found\n",
      "Sec_Group_DJ deleted\n"
     ]
    }
   ],
   "source": [
    "delete_sec_group(ec2_ohio,SEC_GROUP_NAME_DB)\n",
    "delete_sec_group(ec2_north_virginia_,SEC_GROUP_NAME_DJ)"
   ]
  },
  {
   "cell_type": "code",
   "execution_count": 34,
   "metadata": {},
   "outputs": [
    {
     "name": "stdout",
     "output_type": "stream",
     "text": [
      "Security Group Sec_Group_DB created\n",
      "Security Group Sec_Group_DJ created\n"
     ]
    }
   ],
   "source": [
    "sec_group_id_db = create_security_group(ec2_ohio,SEC_GROUP_NAME_DB,IpPermissions_DB)\n",
    "sec_group_id_dj = create_security_group(ec2_north_virginia_,SEC_GROUP_NAME_DJ,IpPermissions_DJ)"
   ]
  },
  {
   "cell_type": "code",
   "execution_count": 35,
   "metadata": {
    "scrolled": false
   },
   "outputs": [
    {
     "name": "stdout",
     "output_type": "stream",
     "text": [
      "Writing key_pair_marcelo_ohio.pem in directory ./\n",
      "Writing key_pair_marcelo_north_virginia.pem in directory ./\n"
     ]
    }
   ],
   "source": [
    "key_pair_ohio = create_key_pair(ec2_ohio,KEY_PAIR_OHIO_NAME)\n",
    "key_pair_north_virginia = create_key_pair(ec2_north_virginia_,KEY_PAIR_NORTH_VIRGINIA_NAME)"
   ]
  },
  {
   "cell_type": "code",
   "execution_count": 36,
   "metadata": {
    "scrolled": false
   },
   "outputs": [
    {
     "name": "stdout",
     "output_type": "stream",
     "text": [
      "Creating an instance with t2.micro, and keyname key_pair_marcelo_ohio\n",
      "Instance id: i-0c179d715ccf038b7\n",
      "Instance Public IP:3.142.235.208\n",
      "Creating an instance with t2.micro, and keyname key_pair_marcelo_north_virginia\n",
      "Instance id: i-01d2425dff4d45984\n",
      "Instance Public IP:54.164.112.249\n"
     ]
    }
   ],
   "source": [
    "postgres_ID, postgres_IP = create_an_instance(ec2_ohio,AMI_UBUNTU_OHIO,key_pair_ohio,comand_db,SEC_GROUP_NAME_DB,sec_group_id_db)\n",
    "command_django = command_django.replace(\"IP_REPLACE\",str(postgres_IP))\n",
    "django_ID, django_IP = create_an_instance(ec2_north_virginia_,AMI_UBUNTU_NORTH_VIRGINIA,key_pair_north_virginia,command_django,SEC_GROUP_NAME_DJ,sec_group_id_dj)"
   ]
  },
  {
   "cell_type": "code",
   "execution_count": 37,
   "metadata": {},
   "outputs": [
    {
     "name": "stdout",
     "output_type": "stream",
     "text": [
      "Image Image Django Instance created with id ami-0a387cea284b16912\n",
      "Deleting Instances ids ['i-01d2425dff4d45984']\n",
      "Instances withs keypair key_pair_marcelo_north_virginia deleted\n"
     ]
    }
   ],
   "source": [
    "image_dj_id = create_image(ec2_north_virginia_,django_ID,IMAGE_DJ)\n",
    "delete_instances(ec2_north_virginia_,KEY_PAIR_NORTH_VIRGINIA_NAME)"
   ]
  },
  {
   "cell_type": "code",
   "execution_count": 38,
   "metadata": {},
   "outputs": [
    {
     "name": "stdout",
     "output_type": "stream",
     "text": [
      "Creating load balancer with all subnets available\n",
      "Load Balancer LB-Django created\n"
     ]
    }
   ],
   "source": [
    "load_balancer_arn = create_load_balancer(ec2_north_virginia_,lb_north_virginia_,LB_NAME,sec_group_id_dj)"
   ]
  },
  {
   "cell_type": "code",
   "execution_count": 39,
   "metadata": {},
   "outputs": [
    {
     "name": "stdout",
     "output_type": "stream",
     "text": [
      "Target group TG-DJANGO with arn arn:aws:elasticloadbalancing:us-east-1:248001177325:targetgroup/TG-DJANGO/53f571606953c51a created\n"
     ]
    }
   ],
   "source": [
    "tg_arn_django=create_target_group(ec2_north_virginia_,lb_north_virginia_,TG_NAME)"
   ]
  },
  {
   "cell_type": "code",
   "execution_count": 40,
   "metadata": {},
   "outputs": [
    {
     "name": "stdout",
     "output_type": "stream",
     "text": [
      "Launch Configuration Launch-Config-Django created\n"
     ]
    }
   ],
   "source": [
    "create_launch_configuration(as_north_virginia_,LAUNCH_CONFIG_NAME,image_dj_id,sec_group_id_dj,KEY_PAIR_NORTH_VIRGINIA_NAME)"
   ]
  },
  {
   "cell_type": "code",
   "execution_count": 41,
   "metadata": {
    "scrolled": false
   },
   "outputs": [
    {
     "name": "stdout",
     "output_type": "stream",
     "text": [
      "Auto scaling group AS-DJANGO created\n"
     ]
    }
   ],
   "source": [
    "create_auto_scaling_group(ec2_north_virginia_,as_north_virginia_,\n",
    "                          AUTO_SCALING_GROUP_NAME,LAUNCH_CONFIG_NAME,\n",
    "                          tg_arn_django)"
   ]
  },
  {
   "cell_type": "code",
   "execution_count": null,
   "metadata": {},
   "outputs": [],
   "source": []
  },
  {
   "cell_type": "code",
   "execution_count": 42,
   "metadata": {},
   "outputs": [],
   "source": [
    "listener_arn = create_listener(lb_north_virginia_,load_balancer_arn,tg_arn_django)"
   ]
  },
  {
   "cell_type": "code",
   "execution_count": null,
   "metadata": {},
   "outputs": [],
   "source": []
  },
  {
   "cell_type": "code",
   "execution_count": null,
   "metadata": {},
   "outputs": [],
   "source": []
  }
 ],
 "metadata": {
  "kernelspec": {
   "display_name": "Python 3",
   "language": "python",
   "name": "python3"
  },
  "language_info": {
   "codemirror_mode": {
    "name": "ipython",
    "version": 3
   },
   "file_extension": ".py",
   "mimetype": "text/x-python",
   "name": "python",
   "nbconvert_exporter": "python",
   "pygments_lexer": "ipython3",
   "version": "3.8.10"
  }
 },
 "nbformat": 4,
 "nbformat_minor": 4
}
