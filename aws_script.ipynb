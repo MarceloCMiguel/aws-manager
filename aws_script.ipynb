{
 "cells": [
  {
   "cell_type": "code",
   "execution_count": 1,
   "metadata": {},
   "outputs": [],
   "source": [
    "import boto3\n",
    "import os"
   ]
  },
  {
   "cell_type": "code",
   "execution_count": 2,
   "metadata": {},
   "outputs": [],
   "source": [
    "#variables\n",
    "OHIO_REGION = \"us-east-2\"\n",
    "NORTH_VIRGINIA = \"us-east-1\"\n",
    "AMI_UBUNTU_OHIO = \"ami-020db2c14939a8efb\"\n",
    "AMI_UBUNTU_NORTH_VIRGINIA = \"ami-0279c3b3186e54acd\"\n",
    "KEY_PAIR_OHIO_NAME = \"key_pair_marcelo_ohio\"\n",
    "KEY_PAIR_NORTH_VIRGINIA_NAME = \"key_pair_marcelo_north_virginia\""
   ]
  },
  {
   "cell_type": "code",
   "execution_count": 3,
   "metadata": {},
   "outputs": [],
   "source": [
    "#create a key_pair\n",
    "def create_key_pair(client,key_name:str):\n",
    "    key_pair = client.create_key_pair(KeyName=key_name)\n",
    "\n",
    "    private_key = key_pair[\"KeyMaterial\"]\n",
    "\n",
    "    # write private key to file with 400 permissions\n",
    "    print(f\"Writing {key_name}.pem in directory ./\")\n",
    "    with os.fdopen(os.open(f\"./{key_name}.pem\", os.O_WRONLY | os.O_CREAT, 0o400), \"w+\") as handle:\n",
    "        handle.write(private_key)\n",
    "    return key_pair\n",
    "\n",
    "#delete a key_pair\n",
    "def delete_key_pair(client,key_name:str):\n",
    "    key_pair = client.delete_key_pair(KeyName=key_name)\n",
    "    print(f\"removing {key_name} if exist\")\n",
    "    # write private key to file with 400 permissions\n",
    "    try:\n",
    "        os.remove(\"./\" + key_name + \".pem\")\n",
    "        \n",
    "    except:\n",
    "        pass\n",
    "def create_an_instance(client, ami,key_name):\n",
    "    instancetype = \"t2.micro\"\n",
    "    print(f\"Creating an instance with {instancetype}, and keyname {key_name['KeyName']}\")\n",
    "    instances = client.run_instances(\n",
    "        ImageId=ami,\n",
    "        MinCount=1,\n",
    "        MaxCount=1,\n",
    "        InstanceType=\"t2.micro\",\n",
    "        KeyName=key_name['KeyName']\n",
    "    )\n",
    "    for i in instances['Instances']:\n",
    "        if i['KeyName'] == key_name[\"KeyName\"]:\n",
    "            instance_id = i['InstanceId']\n",
    "    return instances, instance_id\n",
    "\n",
    "def delete_instances(client,key_pair):\n",
    "    list_instances_id = []\n",
    "    for i in client.describe_instances(Filters=[\n",
    "        {\n",
    "            'Name': 'key-name',\n",
    "            'Values': [\n",
    "                key_pair,\n",
    "            ]\n",
    "        },\n",
    "        {\n",
    "            'Name': 'instance-state-name',\n",
    "            'Values': [\n",
    "                \"pending\",\"running\",\"stopping\",\"stopped\"\n",
    "            ]\n",
    "        },\n",
    "    ],\n",
    ")['Reservations']:\n",
    "        list_instances_id.append(i['Instances'][0][\"InstanceId\"])\n",
    "    if len(list_instances_id) > 0:\n",
    "        print(f\"Deleting Instances ids {list_instances_id}\")\n",
    "        waiter = client.get_waiter('instance_terminated')\n",
    "        client.terminate_instances(InstanceIds=list_instances_id)\n",
    "        waiter.wait(InstanceIds=list_instances_id)\n",
    "    else:\n",
    "        print(f\"There is no instances not terminated with the keypair {key_pair}\")"
   ]
  },
  {
   "cell_type": "code",
   "execution_count": 4,
   "metadata": {},
   "outputs": [
    {
     "name": "stdout",
     "output_type": "stream",
     "text": [
      "marcelo\n",
      "AIDATTPQFU3W27CNBJLEK\n",
      "arn:aws:iam::248001177325:user/marcelo\n",
      "2021-09-21 18:22:34+00:00\n"
     ]
    }
   ],
   "source": [
    "#checking if boto3 client is working\n",
    "iam = boto3.client(\"iam\")\n",
    "\n",
    "for user in iam.list_users()[\"Users\"]:\n",
    "    if user[\"UserName\"] == \"marcelo\":\n",
    "        print(user[\"UserName\"])\n",
    "        print(user[\"UserId\"])\n",
    "        print(user[\"Arn\"])\n",
    "        print(user[\"CreateDate\"])"
   ]
  },
  {
   "cell_type": "code",
   "execution_count": 5,
   "metadata": {},
   "outputs": [],
   "source": [
    "#connection to ec2\n",
    "ec2_ohio = boto3.client('ec2', region_name='us-east-2')\n",
    "ec2_north_virginia_ = boto3.client('ec2', region_name='us-east-1')"
   ]
  },
  {
   "cell_type": "code",
   "execution_count": 11,
   "metadata": {},
   "outputs": [
    {
     "name": "stdout",
     "output_type": "stream",
     "text": [
      "Deleting Instances ids ['i-07fb4c7387df9a284']\n",
      "Deleting Instances ids ['i-09ab2bee88a0fe818']\n"
     ]
    }
   ],
   "source": [
    "delete_instances(ec2_ohio,KEY_PAIR_OHIO_NAME)\n",
    "delete_instances(ec2_north_virginia_,KEY_PAIR_NORTH_VIRGINIA_NAME)"
   ]
  },
  {
   "cell_type": "code",
   "execution_count": 7,
   "metadata": {},
   "outputs": [
    {
     "name": "stdout",
     "output_type": "stream",
     "text": [
      "removing key_pair_marcelo_ohio if exist\n",
      "removing key_pair_marcelo_north_virginia if exist\n"
     ]
    }
   ],
   "source": [
    "delete_key_pair(ec2_ohio,KEY_PAIR_OHIO_NAME)\n",
    "delete_key_pair(ec2_north_virginia_,KEY_PAIR_NORTH_VIRGINIA_NAME)"
   ]
  },
  {
   "cell_type": "code",
   "execution_count": 8,
   "metadata": {},
   "outputs": [
    {
     "name": "stdout",
     "output_type": "stream",
     "text": [
      "Writing key_pair_marcelo_ohio.pem in directory ./\n",
      "Writing key_pair_marcelo_north_virginia.pem in directory ./\n"
     ]
    }
   ],
   "source": [
    "key_pair_ohio = create_key_pair(ec2_ohio,KEY_PAIR_OHIO_NAME)\n",
    "key_pair_north_virginia = create_key_pair(ec2_north_virginia_,KEY_PAIR_NORTH_VIRGINIA_NAME)"
   ]
  },
  {
   "cell_type": "code",
   "execution_count": 9,
   "metadata": {},
   "outputs": [
    {
     "name": "stdout",
     "output_type": "stream",
     "text": [
      "Creating an instance with t2.micro, and keyname key_pair_marcelo_ohio\n",
      "Creating an instance with t2.micro, and keyname key_pair_marcelo_north_virginia\n"
     ]
    }
   ],
   "source": [
    "instances_ohio, instance_ohio_id = create_an_instance(ec2_ohio,AMI_UBUNTU_OHIO,key_pair_ohio)\n",
    "instances_north_virginia, instance_north_virginia_id = create_an_instance(ec2_north_virginia_,AMI_UBUNTU_NORTH_VIRGINIA,key_pair_north_virginia)"
   ]
  },
  {
   "cell_type": "code",
   "execution_count": 10,
   "metadata": {},
   "outputs": [
    {
     "data": {
      "text/plain": [
       "[{'Groups': [],\n",
       "  'Instances': [{'AmiLaunchIndex': 0,\n",
       "    'ImageId': 'ami-0279c3b3186e54acd',\n",
       "    'InstanceId': 'i-09ab2bee88a0fe818',\n",
       "    'InstanceType': 't2.micro',\n",
       "    'KeyName': 'key_pair_marcelo_north_virginia',\n",
       "    'LaunchTime': datetime.datetime(2021, 11, 19, 14, 41, 45, tzinfo=tzutc()),\n",
       "    'Monitoring': {'State': 'disabled'},\n",
       "    'Placement': {'AvailabilityZone': 'us-east-1a',\n",
       "     'GroupName': '',\n",
       "     'Tenancy': 'default'},\n",
       "    'PrivateDnsName': 'ip-172-31-95-237.ec2.internal',\n",
       "    'PrivateIpAddress': '172.31.95.237',\n",
       "    'ProductCodes': [],\n",
       "    'PublicDnsName': '',\n",
       "    'State': {'Code': 0, 'Name': 'pending'},\n",
       "    'StateTransitionReason': '',\n",
       "    'SubnetId': 'subnet-8a2f91a4',\n",
       "    'VpcId': 'vpc-5d9e5327',\n",
       "    'Architecture': 'x86_64',\n",
       "    'BlockDeviceMappings': [],\n",
       "    'ClientToken': '5955a824-2579-4bdf-9df2-746a8c3e3db7',\n",
       "    'EbsOptimized': False,\n",
       "    'EnaSupport': True,\n",
       "    'Hypervisor': 'xen',\n",
       "    'NetworkInterfaces': [{'Attachment': {'AttachTime': datetime.datetime(2021, 11, 19, 14, 41, 45, tzinfo=tzutc()),\n",
       "       'AttachmentId': 'eni-attach-0f57c5b96b2748884',\n",
       "       'DeleteOnTermination': True,\n",
       "       'DeviceIndex': 0,\n",
       "       'Status': 'attaching',\n",
       "       'NetworkCardIndex': 0},\n",
       "      'Description': '',\n",
       "      'Groups': [{'GroupName': 'default', 'GroupId': 'sg-96740fdc'}],\n",
       "      'Ipv6Addresses': [],\n",
       "      'MacAddress': '12:b3:c9:a4:c7:55',\n",
       "      'NetworkInterfaceId': 'eni-04ef298242502b689',\n",
       "      'OwnerId': '248001177325',\n",
       "      'PrivateDnsName': 'ip-172-31-95-237.ec2.internal',\n",
       "      'PrivateIpAddress': '172.31.95.237',\n",
       "      'PrivateIpAddresses': [{'Primary': True,\n",
       "        'PrivateDnsName': 'ip-172-31-95-237.ec2.internal',\n",
       "        'PrivateIpAddress': '172.31.95.237'}],\n",
       "      'SourceDestCheck': True,\n",
       "      'Status': 'in-use',\n",
       "      'SubnetId': 'subnet-8a2f91a4',\n",
       "      'VpcId': 'vpc-5d9e5327',\n",
       "      'InterfaceType': 'interface'}],\n",
       "    'RootDeviceName': '/dev/sda1',\n",
       "    'RootDeviceType': 'ebs',\n",
       "    'SecurityGroups': [{'GroupName': 'default', 'GroupId': 'sg-96740fdc'}],\n",
       "    'SourceDestCheck': True,\n",
       "    'VirtualizationType': 'hvm',\n",
       "    'CpuOptions': {'CoreCount': 1, 'ThreadsPerCore': 1},\n",
       "    'CapacityReservationSpecification': {'CapacityReservationPreference': 'open'},\n",
       "    'HibernationOptions': {'Configured': False},\n",
       "    'MetadataOptions': {'State': 'pending',\n",
       "     'HttpTokens': 'optional',\n",
       "     'HttpPutResponseHopLimit': 1,\n",
       "     'HttpEndpoint': 'enabled',\n",
       "     'HttpProtocolIpv6': 'disabled'},\n",
       "    'EnclaveOptions': {'Enabled': False},\n",
       "    'PlatformDetails': 'Linux/UNIX',\n",
       "    'UsageOperation': 'RunInstances',\n",
       "    'UsageOperationUpdateTime': datetime.datetime(2021, 11, 19, 14, 41, 45, tzinfo=tzutc())}],\n",
       "  'OwnerId': '248001177325',\n",
       "  'ReservationId': 'r-0634c8a50b8f672f2'}]"
      ]
     },
     "execution_count": 10,
     "metadata": {},
     "output_type": "execute_result"
    }
   ],
   "source": [
    "ec2_north_virginia_.describe_instances(Filters=[\n",
    "        {\n",
    "            'Name': 'key-name',\n",
    "            'Values': [\n",
    "                KEY_PAIR_NORTH_VIRGINIA_NAME,\n",
    "            ]\n",
    "        },\n",
    "        {\n",
    "            'Name': 'instance-state-name',\n",
    "            'Values': [\n",
    "                \"pending\",\"running\",\"stopping\",\"stopped\"\n",
    "            ]\n",
    "        },\n",
    "    ],\n",
    ")['Reservations']"
   ]
  },
  {
   "cell_type": "code",
   "execution_count": null,
   "metadata": {},
   "outputs": [],
   "source": []
  }
 ],
 "metadata": {
  "kernelspec": {
   "display_name": "Python 3",
   "language": "python",
   "name": "python3"
  },
  "language_info": {
   "codemirror_mode": {
    "name": "ipython",
    "version": 3
   },
   "file_extension": ".py",
   "mimetype": "text/x-python",
   "name": "python",
   "nbconvert_exporter": "python",
   "pygments_lexer": "ipython3",
   "version": "3.8.10"
  }
 },
 "nbformat": 4,
 "nbformat_minor": 4
}
