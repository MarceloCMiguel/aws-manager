{
 "cells": [
  {
   "cell_type": "code",
   "execution_count": 1,
   "metadata": {},
   "outputs": [],
   "source": [
    "import boto3\n",
    "import os"
   ]
  },
  {
   "cell_type": "code",
   "execution_count": 2,
   "metadata": {},
   "outputs": [],
   "source": [
    "#variables\n",
    "OHIO_REGION = \"us-east-2\"\n",
    "NORTH_VIRGINIA = \"us-east-1\"\n",
    "AMI_UBUNTU_OHIO = \"ami-020db2c14939a8efb\"\n",
    "AMI_UBUNTU_NORTH_VIRGINIA = \"ami-0279c3b3186e54acd\"\n",
    "KEY_PAIR_OHIO_NAME = \"key_pair_marcelo_ohio\"\n",
    "KEY_PAIR_NORTH_VIRGINIA_NAME = \"key_pair_marcelo_north_virginia\""
   ]
  },
  {
   "cell_type": "code",
   "execution_count": 27,
   "metadata": {},
   "outputs": [],
   "source": [
    "#create a key_pair\n",
    "def create_key_pair(client,key_name:str):\n",
    "    key_pair = client.create_key_pair(KeyName=key_name)\n",
    "\n",
    "    private_key = key_pair[\"KeyMaterial\"]\n",
    "\n",
    "    # write private key to file with 400 permissions\n",
    "    print(f\"Writing {key_name}.pem in directory ./\")\n",
    "    with os.fdopen(os.open(f\"./{key_name}.pem\", os.O_WRONLY | os.O_CREAT, 0o400), \"w+\") as handle:\n",
    "        handle.write(private_key)\n",
    "    return key_pair\n",
    "\n",
    "#delete a key_pair\n",
    "def delete_key_pair(client,key_name:str):\n",
    "    key_pair = client.delete_key_pair(KeyName=key_name)\n",
    "    print(f\"removing {key_name} if exist\")\n",
    "    # write private key to file with 400 permissions\n",
    "    try:\n",
    "        os.remove(\"./\" + key_name + \".pem\")\n",
    "        \n",
    "    except:\n",
    "        pass\n",
    "def create_an_instance(client, ami,key_name):\n",
    "    instances = client.run_instances(\n",
    "        ImageId=ami,\n",
    "        MinCount=1,\n",
    "        MaxCount=1,\n",
    "        InstanceType=\"t2.micro\",\n",
    "        KeyName=key_name['KeyName']\n",
    "    )\n",
    "    for i in instances['Instances']:\n",
    "        if i['KeyName'] == key_pair_ohio[\"KeyName\"]:\n",
    "            instance_id = i['InstanceId']\n",
    "    return instances, instance_id\n",
    "\n",
    "def delete_instances(client,key_pair):\n",
    "    list_instances_id = []\n",
    "    for i in ec2_ohio.describe_instances(Filters=[\n",
    "        {\n",
    "            'Name': 'key-name',\n",
    "            'Values': [\n",
    "                key_pair,\n",
    "            ]\n",
    "        },\n",
    "        {\n",
    "            'Name': 'instance-state-name',\n",
    "            'Values': [\n",
    "                \"pending\",\"running\",\"stopping\",\"stopped\"\n",
    "            ]\n",
    "        },\n",
    "    ],\n",
    ")['Reservations']:\n",
    "        list_instances_id.append(i['Instances'][0][\"InstanceId\"])\n",
    "    if len(list_instances_id) > 0:\n",
    "        print(f\"Deleting Instances ids {list_instances_id}\")\n",
    "        waiter = client.get_waiter('instance_terminated')\n",
    "        client.terminate_instances(InstanceIds=list_instances_id)\n",
    "        waiter.wait(InstanceIds=list_instances_id)\n",
    "    else:\n",
    "        print(f\"There is no instances with the keypair {key_pair}\")"
   ]
  },
  {
   "cell_type": "code",
   "execution_count": 20,
   "metadata": {},
   "outputs": [
    {
     "data": {
      "text/plain": [
       "[{'Groups': [],\n",
       "  'Instances': [{'AmiLaunchIndex': 0,\n",
       "    'ImageId': 'ami-020db2c14939a8efb',\n",
       "    'InstanceId': 'i-0a4e6da438261f6da',\n",
       "    'InstanceType': 't2.micro',\n",
       "    'KeyName': 'key_pair_marcelo_ohio',\n",
       "    'LaunchTime': datetime.datetime(2021, 11, 19, 12, 31, 52, tzinfo=tzutc()),\n",
       "    'Monitoring': {'State': 'disabled'},\n",
       "    'Placement': {'AvailabilityZone': 'us-east-2b',\n",
       "     'GroupName': '',\n",
       "     'Tenancy': 'default'},\n",
       "    'PrivateDnsName': '',\n",
       "    'ProductCodes': [],\n",
       "    'PublicDnsName': '',\n",
       "    'State': {'Code': 48, 'Name': 'terminated'},\n",
       "    'StateTransitionReason': 'User initiated (2021-11-19 13:36:26 GMT)',\n",
       "    'Architecture': 'x86_64',\n",
       "    'BlockDeviceMappings': [],\n",
       "    'ClientToken': '63404017-ff28-413b-87a3-d28c78c757c6',\n",
       "    'EbsOptimized': False,\n",
       "    'EnaSupport': True,\n",
       "    'Hypervisor': 'xen',\n",
       "    'NetworkInterfaces': [],\n",
       "    'RootDeviceName': '/dev/sda1',\n",
       "    'RootDeviceType': 'ebs',\n",
       "    'SecurityGroups': [],\n",
       "    'StateReason': {'Code': 'Client.UserInitiatedShutdown',\n",
       "     'Message': 'Client.UserInitiatedShutdown: User initiated shutdown'},\n",
       "    'VirtualizationType': 'hvm',\n",
       "    'CpuOptions': {'CoreCount': 1, 'ThreadsPerCore': 1},\n",
       "    'CapacityReservationSpecification': {'CapacityReservationPreference': 'open'},\n",
       "    'HibernationOptions': {'Configured': False},\n",
       "    'MetadataOptions': {'State': 'pending',\n",
       "     'HttpTokens': 'optional',\n",
       "     'HttpPutResponseHopLimit': 1,\n",
       "     'HttpEndpoint': 'enabled',\n",
       "     'HttpProtocolIpv6': 'disabled'},\n",
       "    'EnclaveOptions': {'Enabled': False},\n",
       "    'PlatformDetails': 'Linux/UNIX',\n",
       "    'UsageOperation': 'RunInstances',\n",
       "    'UsageOperationUpdateTime': datetime.datetime(2021, 11, 19, 12, 31, 52, tzinfo=tzutc())}],\n",
       "  'OwnerId': '248001177325',\n",
       "  'ReservationId': 'r-064d8f35ad783d986'},\n",
       " {'Groups': [],\n",
       "  'Instances': [{'AmiLaunchIndex': 0,\n",
       "    'ImageId': 'ami-020db2c14939a8efb',\n",
       "    'InstanceId': 'i-094b070137d4bd7fc',\n",
       "    'InstanceType': 't2.micro',\n",
       "    'KeyName': 'key_pair_marcelo_ohio',\n",
       "    'LaunchTime': datetime.datetime(2021, 11, 19, 13, 38, 55, tzinfo=tzutc()),\n",
       "    'Monitoring': {'State': 'disabled'},\n",
       "    'Placement': {'AvailabilityZone': 'us-east-2b',\n",
       "     'GroupName': '',\n",
       "     'Tenancy': 'default'},\n",
       "    'PrivateDnsName': '',\n",
       "    'ProductCodes': [],\n",
       "    'PublicDnsName': '',\n",
       "    'State': {'Code': 48, 'Name': 'terminated'},\n",
       "    'StateTransitionReason': 'User initiated (2021-11-19 13:42:26 GMT)',\n",
       "    'Architecture': 'x86_64',\n",
       "    'BlockDeviceMappings': [],\n",
       "    'ClientToken': 'fb94b1da-a531-4900-8d37-77b2443f5ba0',\n",
       "    'EbsOptimized': False,\n",
       "    'EnaSupport': True,\n",
       "    'Hypervisor': 'xen',\n",
       "    'NetworkInterfaces': [],\n",
       "    'RootDeviceName': '/dev/sda1',\n",
       "    'RootDeviceType': 'ebs',\n",
       "    'SecurityGroups': [],\n",
       "    'StateReason': {'Code': 'Client.UserInitiatedShutdown',\n",
       "     'Message': 'Client.UserInitiatedShutdown: User initiated shutdown'},\n",
       "    'VirtualizationType': 'hvm',\n",
       "    'CpuOptions': {'CoreCount': 1, 'ThreadsPerCore': 1},\n",
       "    'CapacityReservationSpecification': {'CapacityReservationPreference': 'open'},\n",
       "    'HibernationOptions': {'Configured': False},\n",
       "    'MetadataOptions': {'State': 'pending',\n",
       "     'HttpTokens': 'optional',\n",
       "     'HttpPutResponseHopLimit': 1,\n",
       "     'HttpEndpoint': 'enabled',\n",
       "     'HttpProtocolIpv6': 'disabled'},\n",
       "    'EnclaveOptions': {'Enabled': False},\n",
       "    'PlatformDetails': 'Linux/UNIX',\n",
       "    'UsageOperation': 'RunInstances',\n",
       "    'UsageOperationUpdateTime': datetime.datetime(2021, 11, 19, 13, 38, 55, tzinfo=tzutc())}],\n",
       "  'OwnerId': '248001177325',\n",
       "  'ReservationId': 'r-073244679315e529d'},\n",
       " {'Groups': [],\n",
       "  'Instances': [{'AmiLaunchIndex': 0,\n",
       "    'ImageId': 'ami-020db2c14939a8efb',\n",
       "    'InstanceId': 'i-07317bc5d6e6a3170',\n",
       "    'InstanceType': 't2.micro',\n",
       "    'KeyName': 'key_pair_marcelo_ohio',\n",
       "    'LaunchTime': datetime.datetime(2021, 11, 19, 13, 38, 24, tzinfo=tzutc()),\n",
       "    'Monitoring': {'State': 'disabled'},\n",
       "    'Placement': {'AvailabilityZone': 'us-east-2b',\n",
       "     'GroupName': '',\n",
       "     'Tenancy': 'default'},\n",
       "    'PrivateDnsName': '',\n",
       "    'ProductCodes': [],\n",
       "    'PublicDnsName': '',\n",
       "    'State': {'Code': 48, 'Name': 'terminated'},\n",
       "    'StateTransitionReason': 'User initiated (2021-11-19 13:42:26 GMT)',\n",
       "    'Architecture': 'x86_64',\n",
       "    'BlockDeviceMappings': [],\n",
       "    'ClientToken': 'e7963d8d-ac44-4cef-ad69-d93a492e9d4e',\n",
       "    'EbsOptimized': False,\n",
       "    'EnaSupport': True,\n",
       "    'Hypervisor': 'xen',\n",
       "    'NetworkInterfaces': [],\n",
       "    'RootDeviceName': '/dev/sda1',\n",
       "    'RootDeviceType': 'ebs',\n",
       "    'SecurityGroups': [],\n",
       "    'StateReason': {'Code': 'Client.UserInitiatedShutdown',\n",
       "     'Message': 'Client.UserInitiatedShutdown: User initiated shutdown'},\n",
       "    'VirtualizationType': 'hvm',\n",
       "    'CpuOptions': {'CoreCount': 1, 'ThreadsPerCore': 1},\n",
       "    'CapacityReservationSpecification': {'CapacityReservationPreference': 'open'},\n",
       "    'HibernationOptions': {'Configured': False},\n",
       "    'MetadataOptions': {'State': 'pending',\n",
       "     'HttpTokens': 'optional',\n",
       "     'HttpPutResponseHopLimit': 1,\n",
       "     'HttpEndpoint': 'enabled',\n",
       "     'HttpProtocolIpv6': 'disabled'},\n",
       "    'EnclaveOptions': {'Enabled': False},\n",
       "    'PlatformDetails': 'Linux/UNIX',\n",
       "    'UsageOperation': 'RunInstances',\n",
       "    'UsageOperationUpdateTime': datetime.datetime(2021, 11, 19, 13, 38, 24, tzinfo=tzutc())}],\n",
       "  'OwnerId': '248001177325',\n",
       "  'ReservationId': 'r-0fb3da073bf0a320d'},\n",
       " {'Groups': [],\n",
       "  'Instances': [{'AmiLaunchIndex': 0,\n",
       "    'ImageId': 'ami-020db2c14939a8efb',\n",
       "    'InstanceId': 'i-03a7f2ceb4efbf6ea',\n",
       "    'InstanceType': 't2.micro',\n",
       "    'KeyName': 'key_pair_marcelo_ohio',\n",
       "    'LaunchTime': datetime.datetime(2021, 11, 19, 13, 29, 43, tzinfo=tzutc()),\n",
       "    'Monitoring': {'State': 'disabled'},\n",
       "    'Placement': {'AvailabilityZone': 'us-east-2c',\n",
       "     'GroupName': '',\n",
       "     'Tenancy': 'default'},\n",
       "    'PrivateDnsName': '',\n",
       "    'ProductCodes': [],\n",
       "    'PublicDnsName': '',\n",
       "    'State': {'Code': 48, 'Name': 'terminated'},\n",
       "    'StateTransitionReason': 'User initiated (2021-11-19 13:42:26 GMT)',\n",
       "    'Architecture': 'x86_64',\n",
       "    'BlockDeviceMappings': [],\n",
       "    'ClientToken': '',\n",
       "    'EbsOptimized': False,\n",
       "    'EnaSupport': True,\n",
       "    'Hypervisor': 'xen',\n",
       "    'NetworkInterfaces': [],\n",
       "    'RootDeviceName': '/dev/sda1',\n",
       "    'RootDeviceType': 'ebs',\n",
       "    'SecurityGroups': [],\n",
       "    'StateReason': {'Code': 'Client.UserInitiatedShutdown',\n",
       "     'Message': 'Client.UserInitiatedShutdown: User initiated shutdown'},\n",
       "    'VirtualizationType': 'hvm',\n",
       "    'CpuOptions': {'CoreCount': 1, 'ThreadsPerCore': 1},\n",
       "    'CapacityReservationSpecification': {'CapacityReservationPreference': 'open'},\n",
       "    'HibernationOptions': {'Configured': False},\n",
       "    'MetadataOptions': {'State': 'pending',\n",
       "     'HttpTokens': 'optional',\n",
       "     'HttpPutResponseHopLimit': 1,\n",
       "     'HttpEndpoint': 'enabled',\n",
       "     'HttpProtocolIpv6': 'disabled'},\n",
       "    'EnclaveOptions': {'Enabled': False},\n",
       "    'PlatformDetails': 'Linux/UNIX',\n",
       "    'UsageOperation': 'RunInstances',\n",
       "    'UsageOperationUpdateTime': datetime.datetime(2021, 11, 19, 13, 29, 43, tzinfo=tzutc())}],\n",
       "  'OwnerId': '248001177325',\n",
       "  'ReservationId': 'r-0f6d75a5fc33f378d'}]"
      ]
     },
     "execution_count": 20,
     "metadata": {},
     "output_type": "execute_result"
    }
   ],
   "source": [
    "ec2_ohio.describe_instances(Filters=[\n",
    "        {\n",
    "            'Name': 'key-name',\n",
    "            'Values': [\n",
    "                KEY_PAIR_OHIO_NAME,\n",
    "            ]\n",
    "        },\n",
    "    ],\n",
    ")['Reservations']\n"
   ]
  },
  {
   "cell_type": "code",
   "execution_count": 4,
   "metadata": {},
   "outputs": [
    {
     "name": "stdout",
     "output_type": "stream",
     "text": [
      "marcelo\n",
      "AIDATTPQFU3W27CNBJLEK\n",
      "arn:aws:iam::248001177325:user/marcelo\n",
      "2021-09-21 18:22:34+00:00\n"
     ]
    }
   ],
   "source": [
    "#checking if boto3 client is working\n",
    "iam = boto3.client(\"iam\")\n",
    "\n",
    "for user in iam.list_users()[\"Users\"]:\n",
    "    if user[\"UserName\"] == \"marcelo\":\n",
    "        print(user[\"UserName\"])\n",
    "        print(user[\"UserId\"])\n",
    "        print(user[\"Arn\"])\n",
    "        print(user[\"CreateDate\"])"
   ]
  },
  {
   "cell_type": "code",
   "execution_count": 5,
   "metadata": {},
   "outputs": [],
   "source": [
    "#connection to ec2\n",
    "ec2_ohio = boto3.client('ec2', region_name='us-east-2')\n",
    "ec2_north_virginia_ = boto3.client('ec2', region_name='us-east-1')"
   ]
  },
  {
   "cell_type": "code",
   "execution_count": 28,
   "metadata": {},
   "outputs": [
    {
     "name": "stdout",
     "output_type": "stream",
     "text": [
      "There is no instances with the keypair key_pair_marcelo_ohio\n",
      "There is no instances with the keypair key_pair_marcelo_north_virginia\n"
     ]
    }
   ],
   "source": [
    "delete_instances(ec2_ohio,KEY_PAIR_OHIO_NAME)\n",
    "delete_instances(ec2_north_virginia_,KEY_PAIR_NORTH_VIRGINIA_NAME)"
   ]
  },
  {
   "cell_type": "code",
   "execution_count": 7,
   "metadata": {},
   "outputs": [
    {
     "name": "stdout",
     "output_type": "stream",
     "text": [
      "removing key_pair_marcelo_ohio if exist\n",
      "removing key_pair_marcelo_north_virginia if exist\n"
     ]
    }
   ],
   "source": [
    "delete_key_pair(ec2_ohio,KEY_PAIR_OHIO_NAME)\n",
    "delete_key_pair(ec2_north_virginia_,KEY_PAIR_NORTH_VIRGINIA_NAME)"
   ]
  },
  {
   "cell_type": "code",
   "execution_count": 14,
   "metadata": {},
   "outputs": [
    {
     "name": "stdout",
     "output_type": "stream",
     "text": [
      "Writing key_pair_marcelo_ohio.pem in directory ./\n",
      "Writing key_pair_marcelo_north_virginia.pem in directory ./\n"
     ]
    }
   ],
   "source": [
    "key_pair_ohio = create_key_pair(ec2_ohio,KEY_PAIR_OHIO_NAME)\n",
    "key_pair_north_virginia = create_key_pair(ec2_north_virginia_,KEY_PAIR_NORTH_VIRGINIA_NAME)"
   ]
  },
  {
   "cell_type": "code",
   "execution_count": 50,
   "metadata": {},
   "outputs": [
    {
     "name": "stdout",
     "output_type": "stream",
     "text": [
      "{'ResponseMetadata': {'RequestId': 'b921a39f-e1cb-47d5-8bcd-4f6784baf806', 'HTTPStatusCode': 200, 'HTTPHeaders': {'x-amzn-requestid': 'b921a39f-e1cb-47d5-8bcd-4f6784baf806', 'cache-control': 'no-cache, no-store', 'strict-transport-security': 'max-age=31536000; includeSubDomains', 'content-type': 'text/xml;charset=UTF-8', 'content-length': '227', 'date': 'Fri, 19 Nov 2021 13:06:43 GMT', 'server': 'AmazonEC2'}, 'RetryAttempts': 0}}\n",
      "{'ResponseMetadata': {'RequestId': 'f3592bcb-f465-4a9f-b26b-b64fba7f3ba6', 'HTTPStatusCode': 200, 'HTTPHeaders': {'x-amzn-requestid': 'f3592bcb-f465-4a9f-b26b-b64fba7f3ba6', 'cache-control': 'no-cache, no-store', 'strict-transport-security': 'max-age=31536000; includeSubDomains', 'content-type': 'text/xml;charset=UTF-8', 'content-length': '227', 'date': 'Fri, 19 Nov 2021 13:06:44 GMT', 'server': 'AmazonEC2'}, 'RetryAttempts': 0}}\n"
     ]
    }
   ],
   "source": [
    "response = ec2_ohio.delete_key_pair(KeyName='key_pair_marcelo_ohio')\n",
    "print(response)\n",
    "response = ec2_north_virginia_.delete_key_pair(KeyName='key_pair_marcelo_north_virginia')\n",
    "print(response)"
   ]
  },
  {
   "cell_type": "code",
   "execution_count": 17,
   "metadata": {},
   "outputs": [],
   "source": [
    "instances, instance_ohio_id = create_an_instance(ec2_ohio,AMI_UBUNTU_OHIO,key_pair_ohio)"
   ]
  },
  {
   "cell_type": "code",
   "execution_count": 33,
   "metadata": {},
   "outputs": [
    {
     "name": "stdout",
     "output_type": "stream",
     "text": [
      "i-0a4e6da438261f6da\n"
     ]
    }
   ],
   "source": [
    "for i in instance_ohio['Instances']:\n",
    "    if i['KeyName'] == key_pair_ohio[\"KeyName\"]:\n",
    "        print(i['InstanceId'])"
   ]
  },
  {
   "cell_type": "code",
   "execution_count": 12,
   "metadata": {},
   "outputs": [
    {
     "name": "stdout",
     "output_type": "stream",
     "text": [
      "{'KeyPairs': [{'KeyPairId': 'key-0ddebe707609371db', 'KeyFingerprint': '96:dd:b5:20:a0:2f:17:16:9e:2d:77:9d:cc:43:10:86:de:79:ab:53', 'KeyName': 'key_pair_marcelo_ohio', 'KeyType': 'rsa', 'Tags': []}, {'KeyPairId': 'key-03a0062208f174404', 'KeyFingerprint': 'a9:d9:6b:1d:60:a7:d7:8f:39:a7:9a:93:a9:13:d9:79:de:8a:e5:3e', 'KeyName': 'marcelo_ohio', 'KeyType': 'rsa', 'Tags': []}], 'ResponseMetadata': {'RequestId': '4eb7e801-aea5-4db4-bcf3-adfc81eba6b1', 'HTTPStatusCode': 200, 'HTTPHeaders': {'x-amzn-requestid': '4eb7e801-aea5-4db4-bcf3-adfc81eba6b1', 'cache-control': 'no-cache, no-store', 'strict-transport-security': 'max-age=31536000; includeSubDomains', 'content-type': 'text/xml;charset=UTF-8', 'content-length': '831', 'date': 'Fri, 19 Nov 2021 12:11:29 GMT', 'server': 'AmazonEC2'}, 'RetryAttempts': 0}}\n"
     ]
    }
   ],
   "source": [
    "#checking keypairs\n",
    "response = ec2_ohio.describe_key_pairs()\n",
    "print(response)"
   ]
  },
  {
   "cell_type": "code",
   "execution_count": 8,
   "metadata": {},
   "outputs": [
    {
     "data": {
      "text/plain": [
       "ec2.instancesCollectionManager(ec2.ServiceResource(), ec2.Instance)"
      ]
     },
     "execution_count": 8,
     "metadata": {},
     "output_type": "execute_result"
    }
   ],
   "source": []
  },
  {
   "cell_type": "code",
   "execution_count": 7,
   "metadata": {},
   "outputs": [],
   "source": [
    "instances = ec2_resource.instances.filter(\n",
    "    Filters=[{'Name': 'instance-state-name', 'Values': ['']}])\n",
    "for instance in instances:\n",
    "    print(instance.id, instance.instance_type)\n"
   ]
  },
  {
   "cell_type": "code",
   "execution_count": 4,
   "metadata": {},
   "outputs": [
    {
     "name": "stdout",
     "output_type": "stream",
     "text": [
      "Availability Zones: [{'State': 'available', 'OptInStatus': 'opt-in-not-required', 'Messages': [], 'RegionName': 'us-east-1', 'ZoneName': 'us-east-1a', 'ZoneId': 'use1-az2', 'GroupName': 'us-east-1', 'NetworkBorderGroup': 'us-east-1', 'ZoneType': 'availability-zone'}, {'State': 'available', 'OptInStatus': 'opt-in-not-required', 'Messages': [], 'RegionName': 'us-east-1', 'ZoneName': 'us-east-1b', 'ZoneId': 'use1-az4', 'GroupName': 'us-east-1', 'NetworkBorderGroup': 'us-east-1', 'ZoneType': 'availability-zone'}, {'State': 'available', 'OptInStatus': 'opt-in-not-required', 'Messages': [], 'RegionName': 'us-east-1', 'ZoneName': 'us-east-1c', 'ZoneId': 'use1-az6', 'GroupName': 'us-east-1', 'NetworkBorderGroup': 'us-east-1', 'ZoneType': 'availability-zone'}, {'State': 'available', 'OptInStatus': 'opt-in-not-required', 'Messages': [], 'RegionName': 'us-east-1', 'ZoneName': 'us-east-1d', 'ZoneId': 'use1-az1', 'GroupName': 'us-east-1', 'NetworkBorderGroup': 'us-east-1', 'ZoneType': 'availability-zone'}, {'State': 'available', 'OptInStatus': 'opt-in-not-required', 'Messages': [], 'RegionName': 'us-east-1', 'ZoneName': 'us-east-1e', 'ZoneId': 'use1-az3', 'GroupName': 'us-east-1', 'NetworkBorderGroup': 'us-east-1', 'ZoneType': 'availability-zone'}, {'State': 'available', 'OptInStatus': 'opt-in-not-required', 'Messages': [], 'RegionName': 'us-east-1', 'ZoneName': 'us-east-1f', 'ZoneId': 'use1-az5', 'GroupName': 'us-east-1', 'NetworkBorderGroup': 'us-east-1', 'ZoneType': 'availability-zone'}]\n"
     ]
    }
   ],
   "source": [
    "# Retrieves all regions/endpoints that work with EC2\n",
    "response = ec2.describe_regions()\n",
    "#print('Regions:', response['Regions'])\n",
    "\n",
    "# Retrieves availability zones only for region of the ec2 object\n",
    "response = ec2.describe_availability_zones()\n",
    "print('Availability Zones:', response['AvailabilityZones'])\n"
   ]
  },
  {
   "cell_type": "code",
   "execution_count": null,
   "metadata": {},
   "outputs": [],
   "source": []
  }
 ],
 "metadata": {
  "kernelspec": {
   "display_name": "Python 3",
   "language": "python",
   "name": "python3"
  },
  "language_info": {
   "codemirror_mode": {
    "name": "ipython",
    "version": 3
   },
   "file_extension": ".py",
   "mimetype": "text/x-python",
   "name": "python",
   "nbconvert_exporter": "python",
   "pygments_lexer": "ipython3",
   "version": "3.8.10"
  }
 },
 "nbformat": 4,
 "nbformat_minor": 4
}
